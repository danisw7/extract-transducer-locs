{
 "cells": [
  {
   "cell_type": "code",
   "execution_count": null,
   "metadata": {},
   "outputs": [],
   "source": [
    "import matplotlib.pyplot as plt\n",
    "import numpy as np\n",
    "import open3d as o3d\n",
    "\n",
    "import pickle\n",
    "import os\n",
    "import torch\n",
    "\n",
    "import pandas as pd\n",
    "\n",
    "import plotly.io as pio\n",
    "pio.renderers.default = 'notebook+vscode'\n",
    "from sklearn.cluster import KMeans\n",
    "\n",
    "#import sys\n",
    "#sys.path.insert(0, '/Users/danielverschueren/Documents/Sonalis/code/registration/registration/')\n",
    "#sys.path.insert(0, '/Users/danielverschueren/Documents/Sonalis/code/registration/')\n",
    "\n",
    "from point_cloud_torch import affinePC_torch, apply_affine_torch, apply_affine_inverse_torch\n",
    "from point_cloud import plot_PCs, affinePC\n",
    "\n",
    "# the fit function in affinePC calls on minimize_parallel from optimparallel\n",
    "# make sure that package is installed\n",
    "\n",
    "\n",
    "def pgy2npy(pgy_file):\n",
    "    \"\"\"\n",
    "    pgy file to npy\n",
    "    \"\"\"\n",
    "    with open(pgy_file) as f:\n",
    "        lines = f.readlines()\n",
    "    lines = lines[1:] # remove header\n",
    "    np_data = np.zeros((len(lines), 3), np.float64)\n",
    "    for i, line in enumerate(lines):\n",
    "        l = []\n",
    "        for t in line.split():\n",
    "            try:\n",
    "                l.append(float(t))\n",
    "            except ValueError:\n",
    "                pass\n",
    "        np_data[i] = np.asarray(l[1:])\n",
    "    return np_data\n",
    "\n",
    "plot_using = 'plotly_light'"
   ]
  },
  {
   "cell_type": "code",
   "execution_count": null,
   "metadata": {},
   "outputs": [],
   "source": [
    "# Some useful color arrays\n",
    "colour_white = np.array([[1, 1, 1]], dtype=np.float64).swapaxes(1, 0)\n",
    "colour_red = np.array([[1, 0, 0]], dtype=np.float64).swapaxes(1, 0)\n",
    "colour_black = np.array([[0, 0, 0]], dtype=np.float64).swapaxes(1, 0)\n",
    "colour_blue = np.array([[0, 0, 1]], dtype=np.float64).swapaxes(1, 0)\n",
    "colour_green = np.array([[0, 1, 0]], dtype=np.float64).swapaxes(1, 0)"
   ]
  },
  {
   "cell_type": "markdown",
   "metadata": {},
   "source": [
    "## load cleaned point cloud"
   ]
  },
  {
   "cell_type": "code",
   "execution_count": null,
   "metadata": {},
   "outputs": [],
   "source": [
    "refined_points = np.load('coords/PC-jul24.npy')\n",
    "# plot and verify\n",
    "pcd_refined = o3d.utility.Vector3dVector(refined_points)\n",
    "pcd_refined = o3d.geometry.PointCloud(pcd_refined)\n",
    "o3d.visualization.draw_geometries([pcd_refined])"
   ]
  },
  {
   "cell_type": "markdown",
   "metadata": {},
   "source": [
    "## first initial clustering"
   ]
  },
  {
   "cell_type": "code",
   "execution_count": null,
   "metadata": {},
   "outputs": [],
   "source": [
    "# perform k-means clustering: this does not work super well, but can be optimised\n",
    "# for example by passing rough centers of transducers, changing tolerances, n_init,\n",
    "# I haven't played with it too much yet.\n",
    "#\n",
    "# this shows in open3D much more clearly than with plotly\n",
    "n_clusters = 1700\n",
    "kmeans = KMeans(n_clusters=n_clusters, \n",
    "                verbose=1, \n",
    "                init='k-means++',\n",
    "                \n",
    "                n_init='auto', \n",
    "                algorithm='elkan',\n",
    "                random_state=567898).fit(refined_points)"
   ]
  },
  {
   "cell_type": "code",
   "execution_count": null,
   "metadata": {},
   "outputs": [],
   "source": [
    "labels = kmeans.labels_\n",
    "print(f\"point cloud has {labels.max() + 1} clusters\")\n",
    "colors = plt.get_cmap(\"tab20\")(labels /(labels.max() + 1))\n",
    "\n",
    "# update open3D objects\n",
    "pcd_refined.colors = o3d.utility.Vector3dVector(colors[:, :3])\n",
    "\n",
    "# separate clusters\n",
    "cluster_points = []\n",
    "for i in range(n_clusters):\n",
    "    cluster_points.append(refined_points[labels == i][::50])\n",
    "\n",
    "# visualise\n",
    "if plot_using == 'plotly':\n",
    "    pass\n",
    "    #fig = plot_PCs(cluster_points)\n",
    "    #fig.show()\n",
    "elif plot_using == 'open3D':\n",
    "    o3d.visualization.draw_geometries([pcd_refined])\n",
    "else:\n",
    "    pass\n",
    "    #fig = plot_PCs(cluster_points[::10])\n",
    "    #fig.write_html('vis_clusters-1.html')"
   ]
  },
  {
   "cell_type": "code",
   "execution_count": null,
   "metadata": {},
   "outputs": [],
   "source": [
    "# plot cluster centers\n",
    "c1s = kmeans.cluster_centers_\n",
    "fig = plot_PCs([c1s])\n",
    "fig.show()"
   ]
  },
  {
   "cell_type": "markdown",
   "metadata": {},
   "source": [
    "## Register nominal geometry to cluster centers"
   ]
  },
  {
   "cell_type": "code",
   "execution_count": null,
   "metadata": {},
   "outputs": [],
   "source": [
    "# open nominal geometry\n",
    "nominal_geometry_points = pgy2npy('coords/omega2-PointReceivers_in_mm.pgy')\n",
    "nominal_geometry_points.T[[1,2]] = nominal_geometry_points.T[[2,1]] # swap axes\n",
    "nominal_geometry_points.T[[1,0]] = nominal_geometry_points.T[[0,1]] # swap axes\n",
    "print(len(nominal_geometry_points))\n",
    "\n",
    "nominal_geometry = o3d.utility.Vector3dVector(nominal_geometry_points)\n",
    "pcd_nominal_geometry = o3d.geometry.PointCloud(nominal_geometry)\n",
    "\n",
    "if plot_using == 'plotly':\n",
    "    fig = plot_PCs([c1s, nominal_geometry_points])\n",
    "    fig.show()\n",
    "elif plot_using == 'open3D':\n",
    "    o3d.visualization.draw_geometries([pcd_refined, pcd_nominal_geometry])\n",
    "else:\n",
    "    fig = plot_PCs([c1s, nominal_geometry_points])\n",
    "    fig.show()"
   ]
  },
  {
   "cell_type": "code",
   "execution_count": null,
   "metadata": {},
   "outputs": [],
   "source": [
    "# align two point clouds\n",
    "# center both geometries\n",
    "center_c1s = c1s.mean(axis=0)\n",
    "center_nominal = nominal_geometry_points.mean(axis=0)\n",
    "\n",
    "clusters_centered = c1s - center_c1s\n",
    "nominal_centered = nominal_geometry_points - center_nominal\n",
    "\n",
    "# affine\n",
    "start = torch.Tensor([0,0,2000,0,0,0]) # it will be important to have a rough starting point for \n",
    "                      # each! the original geomtery will be very helpful 1600\n",
    "\n",
    "print('start_fitting...')\n",
    "N_PC = affinePC_torch(torch.Tensor(clusters_centered), torch.Tensor(nominal_centered))\n",
    "dphi = 1800\n",
    "N_PC.fit(start=start, \n",
    "         bounds=[(0-dphi,0+dphi),(0-dphi,0+dphi),(900-dphi, 900+dphi)]+[(None,None)]*3, \n",
    "         method='naive',\n",
    "         max_oper=1000,\n",
    "         lr=0.1)\n",
    "print(f\"Affine parametes [rot_x, rot_y, rot_z, t_x, t_y, t_z]: \\n{N_PC.params}\")\n",
    "reg_nominal = N_PC.apply_aff()\n",
    "params = N_PC.params\n",
    "\n",
    "# construct open3D objects\n",
    "reg_nom = o3d.utility.Vector3dVector(reg_nominal)\n",
    "pcd_reg_nom = o3d.geometry.PointCloud(reg_nom)\n",
    "pcd_reg_nom = pcd_reg_nom.paint_uniform_color(colour_green)\n",
    "clusters_ = o3d.utility.Vector3dVector(clusters_centered)\n",
    "pcd_cluster_c = o3d.geometry.PointCloud(clusters_)\n",
    "pcd_cluster_c = pcd_cluster_c.paint_uniform_color(colour_blue)\n",
    "\n",
    "o3d.visualization.draw_geometries([pcd_reg_nom, pcd_cluster_c])\n"
   ]
  },
  {
   "cell_type": "markdown",
   "metadata": {},
   "source": [
    "## Visualise clusters and centers to identify missing transducers\n",
    "(note plotly plot numbers start at 1, numpy at 0)"
   ]
  },
  {
   "cell_type": "code",
   "execution_count": null,
   "metadata": {},
   "outputs": [],
   "source": [
    "# construct open3D objects\n",
    "cluster_centers_vis = [clusters_centered]\n",
    "for c in reg_nominal:\n",
    "    cluster_centers_vis.append(c.reshape(1,-1))\n",
    "fig = plot_PCs(cluster_centers_vis)\n",
    "fig.write_html('vis_centers.html')"
   ]
  },
  {
   "cell_type": "code",
   "execution_count": null,
   "metadata": {},
   "outputs": [],
   "source": [
    "clust_list = [point.reshape(1,-1) + center_c1s for point in reg_nominal]\n",
    "clust_list.append(refined_points[::10])\n",
    "fig = plot_PCs(clust_list)\n",
    "fig.write_html('vis_clust.html')"
   ]
  },
  {
   "cell_type": "code",
   "execution_count": null,
   "metadata": {},
   "outputs": [],
   "source": [
    "# remove broke transducers\n",
    "remove = [839, 841, 1064, 1145, 1171, 1326, 1327, 1354, 1379] #[1156, 1524, 1525, 252, 1055]\n",
    "reg_nominal_clean = []\n",
    "clust_list_clean = []\n",
    "reg_removed = []\n",
    "for i, clust in enumerate(reg_nominal):\n",
    "\n",
    "    if i in remove:\n",
    "        reg_removed.append(clust)\n",
    "        continue\n",
    "\n",
    "    reg_nominal_clean.append(clust)\n",
    "\n",
    "# add two more points for random bits of points\n",
    "#reg_nominal_clean.append((torch.Tensor([-77.2590, 164.5, -159.7]) - center_c1s).float())\n",
    "#reg_nominal_clean.append((torch.Tensor([31.5, -174, -162]) - center_c1s).float())\n",
    "\n",
    "print(reg_nominal_clean[-3])\n",
    "print(reg_nominal_clean[-1])"
   ]
  },
  {
   "cell_type": "code",
   "execution_count": null,
   "metadata": {},
   "outputs": [],
   "source": [
    "# refit with removed pieces\n",
    "start = torch.Tensor([0,0,0,0,0,0]) # it will be important to have a rough starting point for \n",
    "                      # each! the original geomtery will be very helpful [1800,1800,1400,0,0,0]\n",
    "\n",
    "print('start_fitting...')\n",
    "N_PC = affinePC_torch(torch.Tensor(clusters_centered), torch.vstack(reg_nominal_clean))\n",
    "dphi = 1800\n",
    "N_PC.fit(start=start, \n",
    "         bounds=[(0-dphi,0+dphi),(0-dphi, 0+dphi),(0-dphi, 0+dphi)]+[(None,None)]*3, \n",
    "         method='naive',\n",
    "         max_oper=1000,\n",
    "         lr=0.001)\n",
    "print(f\"Affine parametes [rot_x, rot_y, rot_z, t_x, t_y, t_z]: \\n{N_PC.params}\")\n",
    "reg_nominal_clean = N_PC.apply_aff()\n",
    "params = N_PC.params\n",
    "\n",
    "# cvisualize fits\n",
    "reg_nom = o3d.utility.Vector3dVector(reg_nominal_clean)\n",
    "pcd_reg_nom = o3d.geometry.PointCloud(reg_nom)\n",
    "pcd_reg_nom = pcd_reg_nom.paint_uniform_color(colour_green)\n",
    "clusters_ = o3d.utility.Vector3dVector(clusters_centered)\n",
    "pcd_cluster_c = o3d.geometry.PointCloud(clusters_)\n",
    "pcd_cluster_c = pcd_cluster_c.paint_uniform_color(colour_blue)\n",
    "\n",
    "o3d.visualization.draw_geometries([pcd_reg_nom, pcd_cluster_c])"
   ]
  },
  {
   "cell_type": "markdown",
   "metadata": {},
   "source": [
    "## Clustering round 2: get clusters"
   ]
  },
  {
   "cell_type": "code",
   "execution_count": null,
   "metadata": {},
   "outputs": [],
   "source": [
    "#rerun 1705 minus 9 plus 2?\n",
    "n_clusters = 1696\n",
    "reg_nominal_clean_x = reg_nominal_clean.numpy()\n",
    "#np.random.shuffle(reg_nominal_clean_x)\n",
    "init_c = reg_nominal_clean_x + center_c1s\n",
    "\n",
    "# add random fluffs\n",
    "craps = np.array([[53.0, -172.0, -164.0],\n",
    "                  [72.0, 164.0, -162.0]])\n",
    "#init_c = np.vstack([init_c, craps])\n",
    "\n",
    "kmeans_rerun = KMeans(n_clusters=n_clusters, \n",
    "                      verbose=1, \n",
    "                      init=init_c,\n",
    "                      n_init=1, \n",
    "                      algorithm='elkan').fit(refined_points)"
   ]
  },
  {
   "cell_type": "code",
   "execution_count": null,
   "metadata": {},
   "outputs": [],
   "source": [
    "labels_rerun = kmeans_rerun.labels_\n",
    "print(f\"point cloud has {labels_rerun.max() + 1} clusters\")\n",
    "colors = plt.get_cmap(\"tab20\")(labels_rerun /(labels_rerun.max() + 1))\n",
    "\n",
    "# update open3D objects\n",
    "pcd_refined.colors = o3d.utility.Vector3dVector(colors[:, :3])\n",
    "\n",
    "# separate clusters\n",
    "cluster_rerun_points = []\n",
    "for i in range(labels_rerun.max()+1):\n",
    "    x = refined_points[labels_rerun == i]\n",
    "    cluster_rerun_points.append(x[::1])\n",
    "\n",
    "o3d.visualization.draw_geometries([pcd_refined])"
   ]
  },
  {
   "cell_type": "code",
   "execution_count": null,
   "metadata": {},
   "outputs": [],
   "source": [
    "# write only with reduced set op points!\n",
    "#fig=plot_PCs(cluster_rerun_points)\n",
    "#fig.write_html('clusters.html')"
   ]
  },
  {
   "cell_type": "code",
   "execution_count": null,
   "metadata": {},
   "outputs": [],
   "source": [
    "# save clusters\n",
    "clusters_rerun_points_labelled = cluster_rerun_points[0]\n",
    "lab = np.ones(len(clusters_rerun_points_labelled))*0\n",
    "clusters_rerun_points_labelled = np.c_[clusters_rerun_points_labelled, lab]\n",
    "\n",
    "for i in range(1,len(cluster_rerun_points)):\n",
    "    temp_np = cluster_rerun_points[i]\n",
    "    lab = np.ones(len(temp_np))*i\n",
    "    temp_np = np.c_[temp_np, lab]\n",
    "    clusters_rerun_points_labelled = np.vstack((clusters_rerun_points_labelled, temp_np))\n",
    "\n",
    "print(clusters_rerun_points_labelled[-5:])\n",
    "clusters_rerun_points_labelled.tofile('ExtractedTransducerClustersPCs-jul24.npy')\n",
    "\n",
    "bucket = {\"points\" : refined_points,\n",
    "          \"labels\"  : labels_rerun}\n",
    "with open(f\"ClusteredPCs-jul24.pk\", 'wb') as handle:\n",
    "    pickle.dump(bucket, handle)"
   ]
  }
 ],
 "metadata": {
  "language_info": {
   "name": "python"
  }
 },
 "nbformat": 4,
 "nbformat_minor": 2
}
